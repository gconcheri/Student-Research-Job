{
 "cells": [
  {
   "cell_type": "markdown",
   "metadata": {},
   "source": [
    "### Use Markus Drescher Code for Fourier Transform"
   ]
  },
  {
   "cell_type": "code",
   "execution_count": null,
   "metadata": {},
   "outputs": [],
   "source": [
    "def fourier_time(t_series, dt, sigma = 0.4, nw=4, gauss = True):\n",
    "    \"\"\" Calculates the FFT of a time series, applying a Gaussian window function. \"\"\"\n",
    "\n",
    "    # Gaussian or cosine window function\n",
    "    n = len(t_series)\n",
    "    t_list = np.arange(n)*dt\n",
    "\n",
    "    if gauss == True:\n",
    "        gauss = [np.exp(-1/2.*(i/(sigma * n))**2) for i in np.arange(n)]\n",
    "        input_series = gauss * t_series\n",
    "    else:\n",
    "        Wfunlist = [np.cos(np.pi*t_list[t]/(2*t_list[-1]))**nw  for t in range(n)]\n",
    "        input_series = Wfunlist * t_series\n",
    "\n",
    "    # Fourier transform\n",
    "    ft = np.fft.fft(input_series)\n",
    "    freqs = np.fft.fftfreq(n, dt) * 2 * np.pi\n",
    "\n",
    "    # order frequencies in increasing order\n",
    "    end = np.argmin(freqs)\n",
    "    freqs = np.append(freqs[end:], freqs[:end])\n",
    "\n",
    "    # shift results accordingly\n",
    "    ftShifted = np.append(ft[end:], ft[:end])\n",
    "\n",
    "    # Take into account the additional minus sign in the time FT\n",
    "    if len(ftShifted)%2 == 0:\n",
    "        ftShifted = np.append(ftShifted, ftShifted[0])\n",
    "        ftShifted = ftShifted[::-1]\n",
    "        ftShifted = ftShifted[:-1]\n",
    "\n",
    "    else:\n",
    "        ftShifted = ftShifted[::-1]\n",
    "\n",
    "\n",
    "    return freqs, ftShifted\n",
    "\n",
    "\n",
    "def fourier_space(x_series):\n",
    "    \"\"\" Calculates the FFT of a spatial series of values. \"\"\"\n",
    "    import numpy as np\n",
    "    ft = np.fft.fft(x_series)\n",
    "    n = len(x_series)\n",
    "    momenta = 2*np.pi * np.fft.fftfreq(n, 1)\n",
    "\n",
    "    # order momenta in increasing order\n",
    "    momenta = np.fft.fftshift(momenta)\n",
    "\n",
    "    # shift results accordingly\n",
    "    Ck = np.fft.fftshift(ft)\n",
    "\n",
    "    if n % 2 == 1:\n",
    "        # extend the results to the whole Brillouin zone (right border included)\n",
    "        momenta = np.append(momenta, -momenta[0])\n",
    "        Ck = np.append(Ck, Ck[0])\n",
    "\n",
    "    return momenta, Ck"
   ]
  },
  {
   "cell_type": "markdown",
   "metadata": {},
   "source": [
    "## Compute F.T. of theoretical correlation function"
   ]
  },
  {
   "cell_type": "code",
   "execution_count": null,
   "metadata": {},
   "outputs": [
    {
     "name": "stdout",
     "output_type": "stream",
     "text": [
      "Compute Fourier transform\n",
      "finished\n",
      "[-314.15926536 -313.54567304 -312.93208073 ...  312.31848841  312.93208073\n",
      "  313.54567304]\n"
     ]
    }
   ],
   "source": [
    "# Rearrange corrs such that position 0 corresponds to the perturbed site\n",
    "# (distance 0 to perturbation)\n",
    "\n",
    "corrs = Cs.T\n",
    "#corrs is matrix T x X\n",
    "\n",
    "xi = L//2\n",
    "c_temp = np.zeros(corrs.shape, dtype=complex)\n",
    "c_temp[:, :L-xi] = corrs[:, xi:]\n",
    "c_temp[:, L-xi:] = corrs[:, :xi]\n",
    "corrs = c_temp\n",
    "\n",
    "print('Compute Fourier transform')\n",
    "# Fourier transform in space\n",
    "if L % 2 == 0:\n",
    "    corrs_tk = np.zeros((corrs.shape[0], corrs.shape[1]), dtype=complex)\n",
    "else:\n",
    "    corrs_tk = np.zeros((corrs.shape[0], corrs.shape[1]+1), dtype=complex)\n",
    "for i in np.arange(corrs.shape[0]):\n",
    "    momenta, Ck = fourier_space(corrs[i,:])\n",
    "    corrs_tk[i, :] = Ck\n",
    "   \n",
    "# Fourier transform in time\n",
    "Swk = np.zeros(corrs_tk.shape, dtype=complex)\n",
    "for k in np.arange(corrs_tk.shape[1]):\n",
    "    freqs, Sw = fourier_time(corrs_tk[:, k], dt)\n",
    "    Swk[:, k] = Sw\n",
    "print('finished')\n",
    "\n",
    "print(freqs)"
   ]
  },
  {
   "cell_type": "markdown",
   "metadata": {},
   "source": [
    "## Compute F.T. of interpolated correlation function"
   ]
  },
  {
   "cell_type": "code",
   "execution_count": null,
   "metadata": {},
   "outputs": [
    {
     "name": "stdout",
     "output_type": "stream",
     "text": [
      "Compute Fourier transform\n",
      "finished\n"
     ]
    }
   ],
   "source": [
    "corrs = func_interp\n",
    "\n",
    "c_temp = np.zeros(corrs.shape, dtype=complex)\n",
    "c_temp[:, :L-xi] = corrs[:, xi:]\n",
    "c_temp[:, L-xi:] = corrs[:, :xi]\n",
    "corrs = c_temp\n",
    "\n",
    "print('Compute Fourier transform')\n",
    "\n",
    "# Fourier transform in space\n",
    "if L % 2 == 0:\n",
    "    corrs_tk = np.zeros((corrs.shape[0], corrs.shape[1]), dtype=complex)\n",
    "else:\n",
    "    corrs_tk = np.zeros((corrs.shape[0], corrs.shape[1]+1), dtype=complex)\n",
    "for i in np.arange(corrs.shape[0]):\n",
    "    momenta, Ck = fourier_space(corrs[i,:])\n",
    "    corrs_tk[i, :] = Ck\n",
    "\n",
    "# Fourier transform in time\n",
    "interp_Swk = np.zeros(corrs_tk.shape, dtype=complex)\n",
    "for k in np.arange(corrs_tk.shape[1]):\n",
    "    interp_freqs, Sw = fourier_time(corrs_tk[:, k], dt)\n",
    "    interp_Swk[:, k] = Sw\n",
    "print('finished')\n"
   ]
  },
  {
   "cell_type": "code",
   "execution_count": null,
   "metadata": {},
   "outputs": [
    {
     "name": "stdout",
     "output_type": "stream",
     "text": [
      "512\n",
      "[-2.85599332 -2.28479466 -1.71359599 -1.14239733 -0.57119866  0.\n",
      "  0.57119866  1.14239733  1.71359599  2.28479466  2.85599332  2.85599332]\n"
     ]
    },
    {
     "name": "stderr",
     "output_type": "stream",
     "text": [
      "/tmp/ipykernel_1277228/775180085.py:5: DeprecationWarning: Conversion of an array with ndim > 0 to a scalar is deprecated, and will error in future. Ensure you extract a single element from your array before performing this operation. (Deprecated NumPy 1.25.)\n",
      "  index = int(np.where(freqs == 0)[0])\n"
     ]
    },
    {
     "data": {
      "text/plain": [
       "[]"
      ]
     },
     "metadata": {},
     "output_type": "display_data"
    },
    {
     "data": {
      "image/png": "[encoded data removed]",
      "text/plain": [
       "<Figure size 800x400 with 2 Axes>"
      ]
     },
     "metadata": {},
     "output_type": "display_data"
    }
   ],
   "source": [
    "plt.figure(figsize=(8, 4))\n",
    "W, K = Swk.shape\n",
    "interval = 20\n",
    "\n",
    "index = int(np.where(freqs == 0)[0])\n",
    "print(index)\n",
    "\n",
    "K_min = momenta[0]\n",
    "K_max = momenta[-1]\n",
    "#Kmin = Kmax\n",
    "# num. of momenta = K\n",
    "print(momenta)\n",
    "\n",
    "\n",
    "W_min = freqs[index]\n",
    "W_max = freqs[index+interval]\n",
    "\n",
    "plt.imshow(np.abs(Swk[index:(index+interval), :]), aspect = 'auto', \n",
    "           interpolation = 'none',\n",
    "           origin='lower', \n",
    "           cmap='inferno',\n",
    "           extent = [K_min, K_max, W_min, W_max]\n",
    "           )\n",
    "plt.colorbar()\n",
    "\n",
    "omega = g - 2 * J * np.cos(momenta)  # The dispersion relation\n",
    "plt.plot(momenta, omega, color='yellow', linestyle='--', linewidth=2, label=r'$\\omega = j \\cdot \\cos(k)$')\n",
    "\n",
    "plt.plot()"
   ]
  },
  {
   "cell_type": "code",
   "execution_count": null,
   "metadata": {},
   "outputs": [
    {
     "data": {
      "text/plain": [
       "<matplotlib.colorbar.Colorbar at 0x14534aab0>"
      ]
     },
     "metadata": {},
     "output_type": "display_data"
    },
    {
     "data": {
      "image/png": "[encoded data removed]",
      "text/plain": [
       "<Figure size 640x480 with 2 Axes>"
      ]
     },
     "metadata": {},
     "output_type": "display_data"
    }
   ],
   "source": [
    "plt.imshow(np.abs(interp_Swk), aspect = 'auto', \n",
    "           interpolation = 'none',\n",
    "           origin='lower', \n",
    "           cmap='inferno'\n",
    "           )\n",
    "plt.colorbar()"
   ]
  }
 ],
 "metadata": {
  "language_info": {
   "name": "python"
  }
 },
 "nbformat": 4,
 "nbformat_minor": 2
}
