{
 "cells": [
  {
   "cell_type": "code",
   "execution_count": 2,
   "metadata": {},
   "outputs": [],
   "source": [
    "import numpy as np\n",
    "import matplotlib.pyplot as plt\n",
    "import scipy.sparse as sparse\n",
    "from scipy.sparse.linalg import eigsh, expm_multiply, expm"
   ]
  },
  {
   "cell_type": "markdown",
   "metadata": {},
   "source": [
    "### Correlator generalized for L sites"
   ]
  },
  {
   "cell_type": "code",
   "execution_count": 7,
   "metadata": {},
   "outputs": [],
   "source": [
    "def gen_spin_operators(L):\n",
    "    \"\"\"Returns the spin-1/2 operators sigma_x and sigma_z for L sites.\"\"\"\n",
    "    X = sparse.csr_array(np.array([[0.,1.],[1.,0.]]))\n",
    "    Z = sparse.csr_array(np.diag([1.,-1.]))\n",
    "    \n",
    "    d = 2\n",
    "    Sx_list = []\n",
    "    Sz_list = []\n",
    "    \n",
    "    for i_site in range(L):\n",
    "        # ops on first site\n",
    "        if i_site == 0: \n",
    "            Sx = X\n",
    "            Sz = Z \n",
    "        else: \n",
    "            Sx = sparse.csr_array(np.eye(d))\n",
    "            Sz = sparse.csr_array(np.eye(d))\n",
    "        # ops on remaining sites\n",
    "        for j_site in range(1, L):\n",
    "            if j_site == i_site: \n",
    "                Sx = sparse.kron(Sx, X, 'csr')\n",
    "                Sz = sparse.kron(Sz, Z, 'csr')\n",
    "            else:\n",
    "                Sx = sparse.kron(Sx, np.eye(d), 'csr')\n",
    "                Sz = sparse.kron(Sz, np.eye(d), 'csr')\n",
    "        Sx_list.append(Sx)\n",
    "        Sz_list.append(Sz)\n",
    "    \n",
    "    return Sx_list, Sz_list\n",
    "\n",
    "def gen_hamiltonian_terms(L, Sx_list, Sz_list):\n",
    "    \"\"\"Generates the XX and Z terms of the Hamiltonian.\"\"\"\n",
    "    D = Sx_list[0].shape[0]\n",
    "    print(f'System with {L:d} sites, Hilbert space dimension is {D:d}.')\n",
    "\n",
    "    # Ising interaction\n",
    "    Hxx = Sx_list[0] @ Sx_list[1]\n",
    "    for i in range(1, L-1):\n",
    "        Hxx += Sx_list[i] @ Sx_list[i+1]\n",
    "\n",
    "    Hzz = Sz_list[0] @ Sz_list[1]\n",
    "    for i in range(1, L-1):\n",
    "        Hzz += Sz_list[i] @ Sz_list[i+1]\n",
    "\n",
    "    Hx = Sx_list[0]\n",
    "    for Sx in Sx_list[1:L]:\n",
    "        Hx += Sx\n",
    "\n",
    "    # onsite field terms\n",
    "    Hz = Sz_list[0]\n",
    "    for Sz in Sz_list[1:L]:\n",
    "        Hz += Sz\n",
    "    \n",
    "    return Hxx, Hzz, Hx, Hz"
   ]
  },
  {
   "cell_type": "code",
   "execution_count": 49,
   "metadata": {},
   "outputs": [
    {
     "name": "stdout",
     "output_type": "stream",
     "text": [
      "System with 11 sites, Hilbert space dimension is 2048.\n"
     ]
    }
   ],
   "source": [
    "# define Hamiltonian terms\n",
    "L = 11\n",
    "J = 1.\n",
    "g = 0.5    \n",
    "k = 0\n",
    "\n",
    "Sx_list, Sz_list = gen_spin_operators(L)\n",
    "Hxx, Hzz, Hx, Hz = gen_hamiltonian_terms(L, Sx_list, Sz_list)\n",
    "\n",
    "def Ham(h):\n",
    "    return -J * Hxx -g * Hz - k * Hzz + h * Hx"
   ]
  },
  {
   "cell_type": "code",
   "execution_count": 67,
   "metadata": {},
   "outputs": [
    {
     "name": "stdout",
     "output_type": "stream",
     "text": [
      "0.9999999999999979\n"
     ]
    },
    {
     "data": {
      "image/png": "[encoded data removed]",
      "text/plain": [
       "<Figure size 640x480 with 1 Axes>"
      ]
     },
     "metadata": {},
     "output_type": "display_data"
    }
   ],
   "source": [
    "# compute correlator\n",
    "dt = 1e-2\n",
    "n = 10\n",
    "N = 2**n\n",
    "\n",
    "h_list = np.logspace(-1,-15,30)\n",
    "#print(h_list)\n",
    "overlap_psi = []\n",
    "E, psi = eigsh(Ham(0), k=1, which='SA')\n",
    "E0, psi = np.squeeze(E), np.squeeze(psi)\n",
    "psi_0 = psi\n",
    "psi1 = psi\n",
    "# get ground state\n",
    "for h in h_list[1:]:\n",
    "    E, psi = eigsh(Ham(h), k=1, which='SA')\n",
    "    E0, psi = np.squeeze(E), np.squeeze(psi)\n",
    "    overlap_psi.append(np.abs(psi_0.conj() @ psi))\n",
    "    #print(psi_0.conj() @ psi)\n",
    "    #print(psi_0)\n",
    "    psi_0 = psi\n",
    "    #print(psi)\n",
    "    #print()\n",
    "\n",
    "E, psi_h0 = eigsh(Ham(0), k=1, which='SA')\n",
    "E0, psi_h0 = np.squeeze(E), np.squeeze(psi)\n",
    "\n",
    "print(np.abs(psi_h0.conj() @ psi1))\n",
    "\n",
    "\n",
    "plt.plot(h_list[:-1], overlap_psi, '.-')\n",
    "plt.axvline(x=min_h, color='r', linestyle='--', label='x = 3')\n",
    "plt.axvline(x=10**-2.5, color='g', linestyle='--', label='x = 3')\n",
    "\n",
    "plt.xscale(\"log\")"
   ]
  },
  {
   "cell_type": "code",
   "execution_count": 65,
   "metadata": {},
   "outputs": [
    {
     "name": "stdout",
     "output_type": "stream",
     "text": [
      "4.1753189365604006e-05\n",
      "0.003562247890262444\n"
     ]
    }
   ],
   "source": [
    "\n",
    "min_index = np.argmin(overlap_psi[1:])\n",
    "min_h = h_list[min_index+1]\n",
    "print(min_h)\n",
    "print(h_list[3])"
   ]
  }
 ],
 "metadata": {
  "kernelspec": {
   "display_name": "Python 3",
   "language": "python",
   "name": "python3"
  },
  "language_info": {
   "codemirror_mode": {
    "name": "ipython",
    "version": 3
   },
   "file_extension": ".py",
   "mimetype": "text/x-python",
   "name": "python",
   "nbconvert_exporter": "python",
   "pygments_lexer": "ipython3",
   "version": "3.12.3"
  }
 },
 "nbformat": 4,
 "nbformat_minor": 2
}
