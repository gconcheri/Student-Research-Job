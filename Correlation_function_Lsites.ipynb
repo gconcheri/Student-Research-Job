{
 "cells": [
  {
   "cell_type": "markdown",
   "metadata": {},
   "source": [
    "### Correlator generalized for L sites"
   ]
  },
  {
   "cell_type": "code",
   "execution_count": null,
   "metadata": {},
   "outputs": [],
   "source": [
    "def gen_spin_operators(L):\n",
    "    \"\"\"Returns the spin-1/2 operators sigma_x and sigma_z for L sites.\"\"\"\n",
    "    X = sparse.csr_array(np.array([[0.,1.],[1.,0.]]))\n",
    "    Z = sparse.csr_array(np.diag([1.,-1.]))\n",
    "    \n",
    "    d = 2\n",
    "    Sx_list = []\n",
    "    Sz_list = []\n",
    "    \n",
    "    for i_site in range(L):\n",
    "        # ops on first site\n",
    "        if i_site == 0: \n",
    "            Sx = X\n",
    "            Sz = Z \n",
    "        else: \n",
    "            Sx = sparse.csr_array(np.eye(d))\n",
    "            Sz = sparse.csr_array(np.eye(d))\n",
    "        # ops on remaining sites\n",
    "        for j_site in range(1, L):\n",
    "            if j_site == i_site: \n",
    "                Sx = sparse.kron(Sx, X, 'csr')\n",
    "                Sz = sparse.kron(Sz, Z, 'csr')\n",
    "            else:\n",
    "                Sx = sparse.kron(Sx, np.eye(d), 'csr')\n",
    "                Sz = sparse.kron(Sz, np.eye(d), 'csr')\n",
    "        Sx_list.append(Sx)\n",
    "        Sz_list.append(Sz)\n",
    "    \n",
    "    return Sx_list, Sz_list\n",
    "\n",
    "def gen_hamiltonian_terms(L, Sx_list, Sz_list):\n",
    "    \"\"\"Generates the XX and Z terms of the Hamiltonian.\"\"\"\n",
    "    D = Sx_list[0].shape[0]\n",
    "    print(f'System with {L:d} sites, Hilbert space dimension is {D:d}.')\n",
    "\n",
    "    # Ising interaction\n",
    "    Hxx = Sx_list[0] @ Sx_list[1]\n",
    "    for i in range(1, L-1):\n",
    "        Hxx += Sx_list[i] @ Sx_list[i+1]\n",
    "    \n",
    "    # onsite field terms\n",
    "    Hz = Sz_list[0]\n",
    "    for Sz in Sz_list[1:L]:\n",
    "        Hz += Sz\n",
    "    \n",
    "    return Hxx, Hz"
   ]
  },
  {
   "cell_type": "code",
   "execution_count": null,
   "metadata": {},
   "outputs": [
    {
     "name": "stdout",
     "output_type": "stream",
     "text": [
      "System with 11 sites, Hilbert space dimension is 2048.\n"
     ]
    }
   ],
   "source": [
    "# define Hamiltonian terms\n",
    "L = 11\n",
    "J = 1.\n",
    "g = 2.    \n",
    "\n",
    "\n",
    "Sx_list, Sz_list = gen_spin_operators(L)\n",
    "Hxx, Hz = gen_hamiltonian_terms(L, Sx_list, Sz_list)\n",
    "\n",
    "H = -J * Hxx -g * Hz"
   ]
  },
  {
   "cell_type": "code",
   "execution_count": null,
   "metadata": {},
   "outputs": [
    {
     "name": "stdout",
     "output_type": "stream",
     "text": [
      "Ground state energy: -23.26640793492973\n",
      "Excited state energy: -19.529530591449653\n"
     ]
    }
   ],
   "source": [
    "# compute correlator\n",
    "dt = 1e-2\n",
    "n = 5\n",
    "N = 2**n\n",
    "\n",
    "# get ground state\n",
    "E, psi = eigsh(H, k=1, which='SA')\n",
    "E0, psi = np.squeeze(E), np.squeeze(psi)\n",
    "print('Ground state energy:', E0)\n",
    "psi_0 = psi.copy()\n",
    "\n",
    "# put in excitation\n",
    "psi = Sx_list[L//2] @ psi\n",
    "E1 = np.dot(psi.conj(), H @ psi).real\n",
    "print('Excited state energy:', E1)\n",
    "\n",
    "psil = np.array([Sx_list[l] @ psi_0 for l in range(L)])\n",
    "\n",
    "\n",
    "# evolve states in time\n",
    "psis = expm_multiply(-1j * H,\n",
    "                     psi,\n",
    "                     start=0,\n",
    "                     stop=N*dt,\n",
    "                     num=N,\n",
    "                     endpoint=False)\n",
    "\n",
    "# calculate correlators C = <psi| e^iHt X_ell e^-iHt X_L/2 |psi>\n",
    "Cs = np.einsum('lj, ij -> li', psil.conj(), psis) * np.exp(1j * E0 * np.arange(N) * dt)"
   ]
  },
  {
   "cell_type": "code",
   "execution_count": null,
   "metadata": {},
   "outputs": [
    {
     "data": {
      "text/plain": [
       "<matplotlib.colorbar.Colorbar at 0x1134c5730>"
      ]
     },
     "metadata": {},
     "output_type": "display_data"
    },
    {
     "data": {
      "image/png": "[encoded data removed]",
      "text/plain": [
       "<Figure size 640x480 with 2 Axes>"
      ]
     },
     "metadata": {},
     "output_type": "display_data"
    }
   ],
   "source": [
    "plt.imshow(Cs.real)\n",
    "plt.colorbar()"
   ]
  }
 ],
 "metadata": {
  "language_info": {
   "name": "python"
  }
 },
 "nbformat": 4,
 "nbformat_minor": 2
}
