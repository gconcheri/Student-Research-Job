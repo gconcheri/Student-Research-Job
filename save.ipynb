{
 "cells": [
  {
   "cell_type": "code",
   "execution_count": null,
   "metadata": {
    "vscode": {
     "languageId": "plaintext"
    }
   },
   "outputs": [],
   "source": [
    "import importlib\n",
    "import Chebyshev.Chebyshev as Cbs\n",
    "\n",
    "importlib.reload(Cbs)\n",
    "\n"
   ]
  },
  {
   "cell_type": "code",
   "execution_count": null,
   "metadata": {
    "vscode": {
     "languageId": "plaintext"
    }
   },
   "outputs": [],
   "source": [
    "n = 10\n",
    "\n",
    "# compute correlator\n",
    "N = 2**n\n",
    "dt = 1e-2\n",
    "\n",
    "\n",
    "# calculate correlators C = <psi| e^iHt X e^-iHt X |psi>\n",
    "def Cs_chebyshev(t_matrix, psi = psi):\n",
    "    a,b = t_matrix.shape\n",
    "    print(a, b)\n",
    "    t = t_matrix.reshape(-1)*(N-1)*dt\n",
    "    psis = np.zeros((a*b,psi.shape[0]), dtype=np.complex128)\n",
    "    for i,tt in enumerate(t):\n",
    "        psis[i,:] = expm_multiply(-1j * H * tt, psi)\n",
    "    corr = np.einsum('j, ij -> i', psi.conj(), psis) * np.exp(1j * E0 * t)\n",
    "    return corr.reshape(a, b)\n",
    "\n",
    "\n",
    "#print(Cs_chebyshev(20))\n",
    "\n",
    "\n",
    "#use numpy.save, numpy.savez, hdf5 file\n",
    "\n",
    "\n",
    "# evolve states in time\n",
    "psis = expm_multiply(-1j * H,\n",
    "                     psi,\n",
    "                     start=0,\n",
    "                     stop=N*dt,\n",
    "                     num=N,\n",
    "                     endpoint=False)\n",
    "\n",
    "# exact function values\n",
    "#xs = np.linspace(0, N*dt, 2**n, endpoint=False)\n",
    "xs = np.arange(N)*dt\n",
    "\n",
    "# calculate correlators C = <psi| e^iHt X e^-iHt X |psi>\n",
    "Cs = np.einsum('j, ij -> i', psi.conj(), psis) * np.exp(1j * E0 * np.arange(N) * dt)\n",
    "func_vals = Cs\n",
    "\n",
    "# get MPS from Chebyshev interpolation\n",
    "chi = 20\n",
    "As, _, _, _, _ = Cbs.Chebyshev_interpolation(Cs_chebyshev, # function to be interpolated\n",
    "                                 func_vals,\n",
    "                                 L=n,              # number of MPS tensors\n",
    "                                 chi=chi)           # (half of the) bond dimension\n",
    "# also plot points on which the function was evaluated\n",
    "Cheb_xs = 0.5 * np.sort(np.arange(2)[:, None] + Cbs.c_a_N(np.arange(chi), chi-1)[None, :])\n",
    "Cheb_vals = Cs_chebyshev(Cheb_xs)\n",
    "Cheb_xs *= (N-1)*dt\n",
    "\n",
    "# contract MPS to reconstruct interpolated function\n",
    "func_interp = Cbs.interpolate_singlesite(As)\n",
    "\n",
    "# plot results\n",
    "fig, axs = plt.subplots(ncols=2, dpi=300, figsize=(8,4), sharex=True)\n",
    "\n",
    "axs[0].plot(xs, np.abs(func_vals))\n",
    "axs[0].plot(xs, np.abs(func_interp), '--')\n",
    "axs[0].plot(Cheb_xs, np.abs(Cheb_vals), 'x', ms=4, color='0.3')\n",
    "\n",
    "axs[1].plot(xs, func_vals.real, label='Real part (exact)')\n",
    "axs[1].plot(xs, func_interp.real, '--', label='Real part (interp.)')\n",
    "axs[1].plot(Cheb_xs, Cheb_vals.real, 'x', ms=4, color='0.3')\n",
    "axs[1].plot(xs, func_vals.imag, label='Imaginary part (exact)')\n",
    "axs[1].plot(xs, func_interp.imag, '--', label='Real part (interp.)')\n",
    "axs[1].plot(Cheb_xs, Cheb_vals.imag, 'x', ms=4, color='0.3')\n",
    "axs[1].legend()\n",
    "\n",
    "plt.tight_layout()\n",
    "plt.show()\n"
   ]
  },
  {
   "cell_type": "markdown",
   "metadata": {},
   "source": [
    "### Error vs eval"
   ]
  },
  {
   "cell_type": "code",
   "execution_count": null,
   "metadata": {
    "vscode": {
     "languageId": "plaintext"
    }
   },
   "outputs": [],
   "source": [
    "err_max = []\n",
    "err_2 = []\n",
    "evals = []\n",
    "func_interp_list = []\n",
    "\n",
    "chi_list = [i for i in range(2,10)]\n",
    "chi_list.extend([i for i in range(10,40,5)])\n",
    "chi_list.append(70)\n",
    "\n",
    "for chi in chi_list:\n",
    "# get MPS from Chebyshev interpolation\n",
    "    _, eval, errmax, err2, func_interp = Cbs.Chebyshev_interpolation(Cs_chebyshev, # function to be interpolated\n",
    "                                     func_vals,\n",
    "                                     L=n,              # number of MPS tensors\n",
    "                                     chi=chi)           # (half of the) bond dimension\n",
    "    err_max.append(errmax)\n",
    "    err_2.append(err2)\n",
    "    evals.append(eval)\n",
    "    func_interp_list.append(func_interp)\n",
    "\n",
    "\n"
   ]
  },
  {
   "cell_type": "code",
   "execution_count": null,
   "metadata": {
    "vscode": {
     "languageId": "plaintext"
    }
   },
   "outputs": [],
   "source": [
    "chi_list.append(200)\n",
    "chi_list.append(400)\n",
    "for chi in chi_list[-2:]:\n",
    "    _, eval, errmax, err2, func_interp = Cbs.Chebyshev_interpolation(Cs_chebyshev, # function to be interpolated\n",
    "                                     func_vals,\n",
    "                                     L=n,              # number of MPS tensors\n",
    "                                     chi=chi)           # (half of the) bond dimension\n",
    "    err_max.append(errmax)\n",
    "    err_2.append(err2)\n",
    "    evals.append(eval)\n",
    "    func_interp_list.append(func_interp)\n"
   ]
  },
  {
   "cell_type": "code",
   "execution_count": null,
   "metadata": {
    "vscode": {
     "languageId": "plaintext"
    }
   },
   "outputs": [],
   "source": [
    "if 'err_max' in locals() or 'err_max' in globals():\n",
    "    np.save(\"err_max\", err_max)\n",
    "    np.save(\"err_2\", err_2)\n",
    "    np.save(\"evals\", evals)\n",
    "    np.save \n",
    "else:\n",
    "    err_max = np.load(\"err_max\")\n",
    "    err_2 = np.load(\"err_2\")\n",
    "    evals = np.load(\"evals\")"
   ]
  },
  {
   "cell_type": "markdown",
   "metadata": {},
   "source": [
    "## plot of error vs eval"
   ]
  },
  {
   "cell_type": "code",
   "execution_count": null,
   "metadata": {
    "vscode": {
     "languageId": "plaintext"
    }
   },
   "outputs": [],
   "source": [
    "plt.plot(np.array(evals), np.array(err_max), \".-\", label = r\"$\\epsilon_\\infty$\")\n",
    "plt.plot(np.array(evals), np.array(err_2), \".-\", label = r\"$\\epsilon_2$\")\n",
    "\n",
    "# Annotate the points with their chi values\n",
    "for i, chi in enumerate(chi_list):\n",
    "    # Annotate error_max (first curve)\n",
    "    plt.annotate(f\"{chi}\", (evals[i], err_max[i]),\n",
    "                 textcoords=\"offset points\", xytext=(5, 5), fontsize=8,\n",
    "                 arrowprops=dict(arrowstyle=\"-\", lw=0.5),\n",
    "                 ha='center')\n",
    "\n",
    "    # Annotate error_2 (second curve)\n",
    "    plt.annotate(f\"{chi}\", (evals[i], err_2[i]),\n",
    "                 textcoords=\"offset points\", xytext=(5, -10), fontsize=8,\n",
    "                 arrowprops=dict(arrowstyle=\"-\", lw=0.5),\n",
    "                 ha='center')\n",
    "    \n",
    "\n",
    "plt.yscale(\"log\")\n",
    "plt.xlabel(r\"$evals(\\chi)$\")\n",
    "plt.ylabel(r\"error\")\n",
    "plt.legend()\n",
    "plt.title(\"Error vs # of evaluations\")\n",
    "plt.tight_layout()\n",
    "plt.show()"
   ]
  },
  {
   "cell_type": "code",
   "execution_count": null,
   "metadata": {
    "vscode": {
     "languageId": "plaintext"
    }
   },
   "outputs": [],
   "source": [
    "# Determine the number of rows and columns\n",
    "n_plots = len(func_interp_list)\n",
    "ncols = 2\n",
    "nrows = (n_plots + 1) // 2  # Ensure enough rows for all plots\n",
    "\n",
    "# Create subplots with a grid layout\n",
    "fig, axs = plt.subplots(nrows=nrows, ncols=ncols, figsize=(8, 2 * nrows), sharex=True)\n",
    "\n",
    "# Flatten `axs` for easier indexing (handles both 2D and 1D cases)\n",
    "axs = np.array(axs).T.flatten()\n",
    "\n",
    "for i,element in enumerate(func_interp_list):\n",
    "    axs[i].plot(xs, func_vals, '-')\n",
    "    axs[i].plot(xs, element, '--')\n",
    "    axs[i].set_title(f\"Plot with error: {err_2[i]:.2f}\")\n",
    "\n",
    "for j in range(len(func_interp_list), len(axs)):\n",
    "    fig.delaxes(axs[j])  # Remove empty subplot\n",
    "\n",
    "fig.tight_layout()"
   ]
  }
 ],
 "metadata": {
  "language_info": {
   "name": "python"
  }
 },
 "nbformat": 4,
 "nbformat_minor": 2
}
