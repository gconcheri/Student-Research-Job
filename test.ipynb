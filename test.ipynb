{
 "cells": [
  {
   "cell_type": "code",
   "execution_count": 2,
   "metadata": {},
   "outputs": [],
   "source": [
    "import numpy as np\n",
    "from scipy.linalg.interpolative import interp_decomp\n"
   ]
  },
  {
   "cell_type": "code",
   "execution_count": 9,
   "metadata": {},
   "outputs": [],
   "source": [
    "A = np.array([[0,1,2],[3,4,5],[6,7,8]])\n",
    "i = np.array([0,1,2])"
   ]
  },
  {
   "cell_type": "code",
   "execution_count": 10,
   "metadata": {},
   "outputs": [
    {
     "data": {
      "text/plain": [
       "2"
      ]
     },
     "execution_count": 10,
     "metadata": {},
     "output_type": "execute_result"
    }
   ],
   "source": [
    "A[2,2]\n",
    "A[i,i]\n",
    "i[2]"
   ]
  },
  {
   "cell_type": "code",
   "execution_count": 11,
   "metadata": {},
   "outputs": [
    {
     "name": "stdout",
     "output_type": "stream",
     "text": [
      "[[0 1 2]\n",
      " [3 4 5]\n",
      " [6 7 8]]\n",
      "[[0 1 2]\n",
      " [3 4 5]\n",
      " [6 7 8]]\n"
     ]
    }
   ],
   "source": [
    "print(A[i[:,None],i[None,:]])\n",
    "print(A)"
   ]
  },
  {
   "cell_type": "code",
   "execution_count": 12,
   "metadata": {},
   "outputs": [],
   "source": [
    "A = np.array([[0,1,2],[3,4,5],[6,7,8]])"
   ]
  },
  {
   "cell_type": "markdown",
   "metadata": {},
   "source": [
    "### Check that Interpolative Decomposition works with complex matrices"
   ]
  },
  {
   "cell_type": "code",
   "execution_count": 3,
   "metadata": {},
   "outputs": [],
   "source": [
    "# Define a 2x5 random complex matrix\n",
    "rows, cols = 5, 2\n",
    "real_part = np.random.rand(rows, cols)  # Random real part\n",
    "imag_part = np.random.rand(rows, cols)  # Random imaginary part\n",
    "\n",
    "# Combine them into a complex matrix\n",
    "m1 = real_part + 1j * imag_part\n",
    "\n",
    "real_part = np.random.rand(cols, rows)  # Random real part\n",
    "imag_part = np.random.rand(cols, rows)  # Random imaginary part\n",
    "\n",
    "m2 = real_part + 1j * imag_part\n",
    "\n",
    "m_tot = m1 @ m2"
   ]
  },
  {
   "cell_type": "code",
   "execution_count": 4,
   "metadata": {},
   "outputs": [],
   "source": [
    "# Use scipy's implementation of the interpolative decomposition\n",
    "# Instead of the matrix cross interpolation M = C @ P^-1 @ R\n",
    "# it factorizes as M = A @ P with A = M[:, idx]\n",
    "def interpolative_decomposition(M, eps_or_k=1e-5, k_min=2):\n",
    "    r = min(M.shape)\n",
    "    if r <= k_min:\n",
    "        k = r\n",
    "        idx, proj = interp_decomp(M, eps_or_k=k) #eps_or_k = precision of decomposition\n",
    "    elif isinstance(eps_or_k, int): #checks if eps is an integer\n",
    "        k = min(r, eps_or_k)\n",
    "        idx, proj = interp_decomp(M, eps_or_k=k)\n",
    "    else:\n",
    "        k, idx,  proj = interp_decomp(M, eps_or_k=eps_or_k)\n",
    "        if k <= k_min:\n",
    "            k = min(r, k_min) #is it not enough to put k = k_min? \n",
    "                              #r>k_min otherwise first condition would have been true\n",
    "            idx, proj = interp_decomp(M, eps_or_k=k)\n",
    "    A = M[:, idx[:k]]\n",
    "    P = np.concatenate([np.eye(k), proj], axis=1)[:, np.argsort(idx)]\n",
    "    return A, P, k, idx[:k]\n",
    "\n",
    "# k is the 'compressed' rank = number of pivot columns\n",
    "# idx is the array with entries the indeces of the pivot columns\n",
    "# proj = matrix R s.t. M[:,idx[:k]]*R = M[:,idx[k:]] \n",
    "# P = matrix s.t.  M[:,idx[:k]]*P = M (approximated)"
   ]
  },
  {
   "cell_type": "code",
   "execution_count": 7,
   "metadata": {},
   "outputs": [
    {
     "name": "stdout",
     "output_type": "stream",
     "text": [
      "[[-0.41928128+1.00080127j  0.0652775 +1.58916245j -0.64497361+1.98811855j\n",
      "  -0.56438473+1.3876732j  -0.29940375+1.62778386j]\n",
      " [ 0.12338775+0.5492222j   0.1098847 +0.66315231j  0.18806878+1.25949579j\n",
      "  -0.02697813+0.74233348j -0.00183318+0.92444097j]\n",
      " [-0.24059206+0.20502703j -0.2957317 +0.52886219j -0.40654617+0.52867641j\n",
      "  -0.38824251+0.33687345j -0.35155227+0.51929688j]\n",
      " [-0.04395127+0.2300687j  -0.11904514+0.36899942j -0.10077391+0.57565565j\n",
      "  -0.16465109+0.32690823j -0.1678344 +0.46106j   ]\n",
      " [-0.24899779+0.98599264j  0.39391027+1.62171128j -0.19176679+1.92695023j\n",
      "  -0.27947528+1.45218008j  0.10804916+1.65898575j]]\n",
      "\n",
      "[[-0.41928128+1.00080127j  0.0652775 +1.58916245j -0.64497361+1.98811855j\n",
      "  -0.56438473+1.3876732j  -0.29940375+1.62778386j]\n",
      " [ 0.12338775+0.5492222j   0.1098847 +0.66315231j  0.18806878+1.25949579j\n",
      "  -0.02697813+0.74233348j -0.00183318+0.92444097j]\n",
      " [-0.24059206+0.20502703j -0.2957317 +0.52886219j -0.40654617+0.52867641j\n",
      "  -0.38824251+0.33687345j -0.35155227+0.51929688j]\n",
      " [-0.04395127+0.2300687j  -0.11904514+0.36899942j -0.10077391+0.57565565j\n",
      "  -0.16465109+0.32690823j -0.1678344 +0.46106j   ]\n",
      " [-0.24899779+0.98599264j  0.39391027+1.62171128j -0.19176679+1.92695023j\n",
      "  -0.27947528+1.45218008j  0.10804916+1.65898575j]]\n"
     ]
    }
   ],
   "source": [
    "A, P, k, idx = interpolative_decomposition(m_tot, eps_or_k=2)\n",
    "\n",
    "m_interp = A @ P\n",
    "\n",
    "print(m_interp)\n",
    "print()\n",
    "print(m_tot)"
   ]
  },
  {
   "cell_type": "code",
   "execution_count": null,
   "metadata": {},
   "outputs": [],
   "source": []
  }
 ],
 "metadata": {
  "kernelspec": {
   "display_name": "Computational",
   "language": "python",
   "name": "python3"
  },
  "language_info": {
   "codemirror_mode": {
    "name": "ipython",
    "version": 3
   },
   "file_extension": ".py",
   "mimetype": "text/x-python",
   "name": "python",
   "nbconvert_exporter": "python",
   "pygments_lexer": "ipython3",
   "version": "3.12.8"
  }
 },
 "nbformat": 4,
 "nbformat_minor": 2
}
