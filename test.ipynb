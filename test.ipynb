{
 "cells": [
  {
   "cell_type": "code",
   "execution_count": 1,
   "metadata": {},
   "outputs": [],
   "source": [
    "import numpy as np\n",
    "from scipy.linalg.interpolative import interp_decomp\n"
   ]
  },
  {
   "cell_type": "code",
   "execution_count": 2,
   "metadata": {},
   "outputs": [],
   "source": [
    "A = np.array([[0,1,2],[3,4,5],[6,7,8]])\n",
    "i = np.array([0,1,2])"
   ]
  },
  {
   "cell_type": "code",
   "execution_count": 3,
   "metadata": {},
   "outputs": [
    {
     "data": {
      "text/plain": [
       "2"
      ]
     },
     "execution_count": 3,
     "metadata": {},
     "output_type": "execute_result"
    }
   ],
   "source": [
    "A[2,2]\n",
    "A[i,i]\n",
    "i[2]"
   ]
  },
  {
   "cell_type": "code",
   "execution_count": 4,
   "metadata": {},
   "outputs": [
    {
     "name": "stdout",
     "output_type": "stream",
     "text": [
      "[[0 1 2]\n",
      " [3 4 5]\n",
      " [6 7 8]]\n",
      "[[0 1 2]\n",
      " [3 4 5]\n",
      " [6 7 8]]\n"
     ]
    }
   ],
   "source": [
    "print(A[i[:,None],i[None,:]])\n",
    "print(A)"
   ]
  },
  {
   "cell_type": "code",
   "execution_count": 14,
   "metadata": {},
   "outputs": [
    {
     "name": "stdout",
     "output_type": "stream",
     "text": [
      "(3, 3)\n",
      "9\n"
     ]
    }
   ],
   "source": [
    "A = np.array([[0,1,2],[3,4,5],[6,7,8]])\n",
    "A.reshape(-1).shape\n",
    "\n",
    "for evals in A.shape:\n",
    "    evals*=evals\n",
    "print(A.shape)\n",
    "print(evals)"
   ]
  },
  {
   "cell_type": "code",
   "execution_count": 10,
   "metadata": {},
   "outputs": [
    {
     "name": "stdout",
     "output_type": "stream",
     "text": [
      "(10, 3, 3)\n"
     ]
    }
   ],
   "source": [
    "A = (A,)*10\n",
    "A = np.array(A)\n",
    "print(A.shape)"
   ]
  },
  {
   "cell_type": "markdown",
   "metadata": {},
   "source": [
    "### Check that Interpolative Decomposition works with complex matrices"
   ]
  },
  {
   "cell_type": "code",
   "execution_count": 8,
   "metadata": {},
   "outputs": [],
   "source": [
    "# Define a 2x5 random complex matrix\n",
    "rows, cols = 5, 2\n",
    "real_part = np.random.rand(rows, cols)  # Random real part\n",
    "imag_part = np.random.rand(rows, cols)  # Random imaginary part\n",
    "\n",
    "# Combine them into a complex matrix\n",
    "m1 = real_part + 1j * imag_part\n",
    "\n",
    "real_part = np.random.rand(cols, rows)  # Random real part\n",
    "imag_part = np.random.rand(cols, rows)  # Random imaginary part\n",
    "\n",
    "m2 = real_part + 1j * imag_part\n",
    "\n",
    "m_tot = m1 @ m2"
   ]
  },
  {
   "cell_type": "code",
   "execution_count": 9,
   "metadata": {},
   "outputs": [],
   "source": [
    "# Use scipy's implementation of the interpolative decomposition\n",
    "# Instead of the matrix cross interpolation M = C @ P^-1 @ R\n",
    "# it factorizes as M = A @ P with A = M[:, idx]\n",
    "def interpolative_decomposition(M, eps_or_k=1e-5, k_min=2):\n",
    "    r = min(M.shape)\n",
    "    if r <= k_min:\n",
    "        k = r\n",
    "        idx, proj = interp_decomp(M, eps_or_k=k) #eps_or_k = precision of decomposition\n",
    "    elif isinstance(eps_or_k, int): #checks if eps is an integer\n",
    "        k = min(r, eps_or_k)\n",
    "        idx, proj = interp_decomp(M, eps_or_k=k)\n",
    "    else:\n",
    "        k, idx,  proj = interp_decomp(M, eps_or_k=eps_or_k)\n",
    "        if k <= k_min:\n",
    "            k = min(r, k_min) #is it not enough to put k = k_min? \n",
    "                              #r>k_min otherwise first condition would have been true\n",
    "            idx, proj = interp_decomp(M, eps_or_k=k)\n",
    "    A = M[:, idx[:k]]\n",
    "    P = np.concatenate([np.eye(k), proj], axis=1)[:, np.argsort(idx)]\n",
    "    return A, P, k, idx[:k]\n",
    "\n",
    "# k is the 'compressed' rank = number of pivot columns\n",
    "# idx is the array with entries the indeces of the pivot columns\n",
    "# proj = matrix R s.t. M[:,idx[:k]]*R = M[:,idx[k:]] \n",
    "# P = matrix s.t.  M[:,idx[:k]]*P = M (approximated)"
   ]
  },
  {
   "cell_type": "code",
   "execution_count": 10,
   "metadata": {},
   "outputs": [
    {
     "name": "stdout",
     "output_type": "stream",
     "text": [
      "[[ 0.32859322+0.34442887j  0.13426369+0.98188034j  0.72786089+0.75383778j\n",
      "   0.2430558 +0.94006694j -0.00824579+1.0023754j ]\n",
      " [ 0.06371897+0.08348594j -0.12787062+0.27253781j  0.1742689 +0.23161466j\n",
      "   0.05859095+0.36864125j -0.06160455+0.2615074j ]\n",
      " [ 0.07774328+0.32779815j -0.3638733 +0.33289388j  0.0579081 +0.78535203j\n",
      "  -0.54934593+0.69264794j -0.45102862+0.51999849j]\n",
      " [ 0.12397673+0.44324962j -0.31073839+0.56248006j  0.14271544+0.99445637j\n",
      "  -0.57874893+0.81399864j -0.51507048+0.73445514j]\n",
      " [ 0.39260267+0.39548994j -0.29904778+0.66965788j  0.72015015+1.09708512j\n",
      "  -0.31738421+1.50440194j -0.23255075+1.09742329j]]\n",
      "\n",
      "[[ 0.32859322+0.34442887j  0.13426369+0.98188034j  0.72786089+0.75383778j\n",
      "   0.2430558 +0.94006694j -0.00824579+1.0023754j ]\n",
      " [ 0.06371897+0.08348594j -0.12787062+0.27253781j  0.1742689 +0.23161466j\n",
      "   0.05859095+0.36864125j -0.06160455+0.2615074j ]\n",
      " [ 0.07774328+0.32779815j -0.3638733 +0.33289388j  0.0579081 +0.78535203j\n",
      "  -0.54934593+0.69264794j -0.45102862+0.51999849j]\n",
      " [ 0.12397673+0.44324962j -0.31073839+0.56248006j  0.14271544+0.99445637j\n",
      "  -0.57874893+0.81399864j -0.51507048+0.73445514j]\n",
      " [ 0.39260267+0.39548994j -0.29904778+0.66965788j  0.72015015+1.09708512j\n",
      "  -0.31738421+1.50440194j -0.23255075+1.09742329j]]\n"
     ]
    }
   ],
   "source": [
    "A, P, k, idx = interpolative_decomposition(m_tot, eps_or_k=2)\n",
    "\n",
    "m_interp = A @ P\n",
    "\n",
    "print(m_interp)\n",
    "print()\n",
    "print(m_tot)"
   ]
  },
  {
   "cell_type": "code",
   "execution_count": 3,
   "metadata": {},
   "outputs": [],
   "source": [
    "class function:  # certain function f(x) with x given as binary\n",
    "\n",
    "    def __init__(self, f):\n",
    "        self.cache = {}\n",
    "        self.f = f #store function passed during instantiation\n",
    "\n",
    "\n",
    "    def __call__(self, *args, **kwds):\n",
    "        \n",
    "        if args in self.cache:\n",
    "            return self.cache[*args]\n",
    "        else:\n",
    "            val = self.f(*args)\n",
    "            self.cache[*args] = val\n",
    "            return val\n",
    "    \n",
    "    def cache_size(self): #size of cache = number of current evaluations\n",
    "        return len(self.cache) #return the number of entries in the cache\n",
    "        \n"
   ]
  },
  {
   "cell_type": "code",
   "execution_count": 6,
   "metadata": {},
   "outputs": [],
   "source": [
    "n = 4\n",
    "test_func = lambda x: np.sin(x)\n",
    "xs = np.linspace(0, 1, 2**n, endpoint=False)\n",
    "func_vals = test_func(xs)\n",
    "func = function(lambda *x: func_vals.reshape((2,) * n)[*x])"
   ]
  },
  {
   "cell_type": "code",
   "execution_count": 14,
   "metadata": {},
   "outputs": [
    {
     "name": "stdout",
     "output_type": "stream",
     "text": [
      "2\n"
     ]
    }
   ],
   "source": [
    "func(0,1,1,1)\n",
    "func(0,1,0,1)\n",
    "func(0,1,1,1)\n",
    "\n",
    "print(func.cache_size())"
   ]
  },
  {
   "cell_type": "code",
   "execution_count": 15,
   "metadata": {},
   "outputs": [
    {
     "name": "stdout",
     "output_type": "stream",
     "text": [
      "8\n",
      "7\n",
      "6\n",
      "5\n",
      "4\n",
      "3\n",
      "2\n",
      "1\n",
      "0\n"
     ]
    }
   ],
   "source": [
    "for i in range(8,-1,-1):\n",
    "    print(i)"
   ]
  },
  {
   "cell_type": "code",
   "execution_count": null,
   "metadata": {},
   "outputs": [],
   "source": []
  }
 ],
 "metadata": {
  "kernelspec": {
   "display_name": "Python 3",
   "language": "python",
   "name": "python3"
  },
  "language_info": {
   "codemirror_mode": {
    "name": "ipython",
    "version": 3
   },
   "file_extension": ".py",
   "mimetype": "text/x-python",
   "name": "python",
   "nbconvert_exporter": "python",
   "pygments_lexer": "ipython3",
   "version": "3.12.8"
  }
 },
 "nbformat": 4,
 "nbformat_minor": 2
}
