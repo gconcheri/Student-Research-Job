{
 "cells": [
  {
   "cell_type": "code",
   "execution_count": 1,
   "metadata": {},
   "outputs": [
    {
     "ename": "KeyboardInterrupt",
     "evalue": "",
     "output_type": "error",
     "traceback": [
      "\u001b[0;31m---------------------------------------------------------------------------\u001b[0m",
      "\u001b[0;31mKeyboardInterrupt\u001b[0m                         Traceback (most recent call last)",
      "Cell \u001b[0;32mIn[1], line 2\u001b[0m\n\u001b[1;32m      1\u001b[0m \u001b[38;5;28;01mimport\u001b[39;00m \u001b[38;5;21;01mnumpy\u001b[39;00m \u001b[38;5;28;01mas\u001b[39;00m \u001b[38;5;21;01mnp\u001b[39;00m\n\u001b[0;32m----> 2\u001b[0m \u001b[38;5;28;01mfrom\u001b[39;00m \u001b[38;5;21;01mscipy\u001b[39;00m\u001b[38;5;21;01m.\u001b[39;00m\u001b[38;5;21;01mlinalg\u001b[39;00m\u001b[38;5;21;01m.\u001b[39;00m\u001b[38;5;21;01minterpolative\u001b[39;00m \u001b[38;5;28;01mimport\u001b[39;00m interp_decomp\n",
      "File \u001b[0;32m~/miniconda3/envs/Computational/lib/python3.12/site-packages/scipy/linalg/__init__.py:222\u001b[0m\n\u001b[1;32m    220\u001b[0m \u001b[38;5;28;01mfrom\u001b[39;00m \u001b[38;5;21;01m.\u001b[39;00m\u001b[38;5;21;01m_procrustes\u001b[39;00m \u001b[38;5;28;01mimport\u001b[39;00m \u001b[38;5;241m*\u001b[39m\n\u001b[1;32m    221\u001b[0m \u001b[38;5;28;01mfrom\u001b[39;00m \u001b[38;5;21;01m.\u001b[39;00m\u001b[38;5;21;01m_decomp_update\u001b[39;00m \u001b[38;5;28;01mimport\u001b[39;00m \u001b[38;5;241m*\u001b[39m\n\u001b[0;32m--> 222\u001b[0m \u001b[38;5;28;01mfrom\u001b[39;00m \u001b[38;5;21;01m.\u001b[39;00m\u001b[38;5;21;01m_sketches\u001b[39;00m \u001b[38;5;28;01mimport\u001b[39;00m \u001b[38;5;241m*\u001b[39m\n\u001b[1;32m    223\u001b[0m \u001b[38;5;28;01mfrom\u001b[39;00m \u001b[38;5;21;01m.\u001b[39;00m\u001b[38;5;21;01m_decomp_cossin\u001b[39;00m \u001b[38;5;28;01mimport\u001b[39;00m \u001b[38;5;241m*\u001b[39m\n\u001b[1;32m    225\u001b[0m \u001b[38;5;66;03m# Deprecated namespaces, to be removed in v2.0.0\u001b[39;00m\n",
      "File \u001b[0;32m~/miniconda3/envs/Computational/lib/python3.12/site-packages/scipy/linalg/_sketches.py:9\u001b[0m\n\u001b[1;32m      6\u001b[0m \u001b[38;5;28;01mimport\u001b[39;00m \u001b[38;5;21;01mnumpy\u001b[39;00m \u001b[38;5;28;01mas\u001b[39;00m \u001b[38;5;21;01mnp\u001b[39;00m\n\u001b[1;32m      8\u001b[0m \u001b[38;5;28;01mfrom\u001b[39;00m \u001b[38;5;21;01mscipy\u001b[39;00m\u001b[38;5;21;01m.\u001b[39;00m\u001b[38;5;21;01m_lib\u001b[39;00m\u001b[38;5;21;01m.\u001b[39;00m\u001b[38;5;21;01m_util\u001b[39;00m \u001b[38;5;28;01mimport\u001b[39;00m check_random_state, rng_integers\n\u001b[0;32m----> 9\u001b[0m \u001b[38;5;28;01mfrom\u001b[39;00m \u001b[38;5;21;01mscipy\u001b[39;00m\u001b[38;5;21;01m.\u001b[39;00m\u001b[38;5;21;01msparse\u001b[39;00m \u001b[38;5;28;01mimport\u001b[39;00m csc_matrix\n\u001b[1;32m     11\u001b[0m __all__ \u001b[38;5;241m=\u001b[39m [\u001b[38;5;124m'\u001b[39m\u001b[38;5;124mclarkson_woodruff_transform\u001b[39m\u001b[38;5;124m'\u001b[39m]\n\u001b[1;32m     14\u001b[0m \u001b[38;5;28;01mdef\u001b[39;00m \u001b[38;5;21mcwt_matrix\u001b[39m(n_rows, n_columns, seed\u001b[38;5;241m=\u001b[39m\u001b[38;5;28;01mNone\u001b[39;00m):\n",
      "File \u001b[0;32m~/miniconda3/envs/Computational/lib/python3.12/site-packages/scipy/sparse/__init__.py:308\u001b[0m\n\u001b[1;32m    305\u001b[0m \u001b[38;5;28;01mfrom\u001b[39;00m \u001b[38;5;21;01m.\u001b[39;00m\u001b[38;5;21;01m_matrix_io\u001b[39;00m \u001b[38;5;28;01mimport\u001b[39;00m \u001b[38;5;241m*\u001b[39m\n\u001b[1;32m    307\u001b[0m \u001b[38;5;66;03m# For backward compatibility with v0.19.\u001b[39;00m\n\u001b[0;32m--> 308\u001b[0m \u001b[38;5;28;01mfrom\u001b[39;00m \u001b[38;5;21;01m.\u001b[39;00m \u001b[38;5;28;01mimport\u001b[39;00m csgraph\n\u001b[1;32m    310\u001b[0m \u001b[38;5;66;03m# Deprecated namespaces, to be removed in v2.0.0\u001b[39;00m\n\u001b[1;32m    311\u001b[0m \u001b[38;5;28;01mfrom\u001b[39;00m \u001b[38;5;21;01m.\u001b[39;00m \u001b[38;5;28;01mimport\u001b[39;00m (\n\u001b[1;32m    312\u001b[0m     base, bsr, compressed, construct, coo, csc, csr, data, dia, dok, extract,\n\u001b[1;32m    313\u001b[0m     lil, sparsetools, sputils\n\u001b[1;32m    314\u001b[0m )\n",
      "File \u001b[0;32m~/miniconda3/envs/Computational/lib/python3.12/site-packages/scipy/sparse/csgraph/__init__.py:196\u001b[0m\n\u001b[1;32m    194\u001b[0m \u001b[38;5;28;01mfrom\u001b[39;00m \u001b[38;5;21;01m.\u001b[39;00m\u001b[38;5;21;01m_min_spanning_tree\u001b[39;00m \u001b[38;5;28;01mimport\u001b[39;00m minimum_spanning_tree\n\u001b[1;32m    195\u001b[0m \u001b[38;5;28;01mfrom\u001b[39;00m \u001b[38;5;21;01m.\u001b[39;00m\u001b[38;5;21;01m_flow\u001b[39;00m \u001b[38;5;28;01mimport\u001b[39;00m maximum_flow\n\u001b[0;32m--> 196\u001b[0m \u001b[38;5;28;01mfrom\u001b[39;00m \u001b[38;5;21;01m.\u001b[39;00m\u001b[38;5;21;01m_matching\u001b[39;00m \u001b[38;5;28;01mimport\u001b[39;00m (\n\u001b[1;32m    197\u001b[0m     maximum_bipartite_matching, min_weight_full_bipartite_matching\n\u001b[1;32m    198\u001b[0m )\n\u001b[1;32m    199\u001b[0m \u001b[38;5;28;01mfrom\u001b[39;00m \u001b[38;5;21;01m.\u001b[39;00m\u001b[38;5;21;01m_reordering\u001b[39;00m \u001b[38;5;28;01mimport\u001b[39;00m reverse_cuthill_mckee, structural_rank\n\u001b[1;32m    200\u001b[0m \u001b[38;5;28;01mfrom\u001b[39;00m \u001b[38;5;21;01m.\u001b[39;00m\u001b[38;5;21;01m_tools\u001b[39;00m \u001b[38;5;28;01mimport\u001b[39;00m (\n\u001b[1;32m    201\u001b[0m     construct_dist_matrix, reconstruct_path, csgraph_from_dense,\n\u001b[1;32m    202\u001b[0m     csgraph_to_dense, csgraph_masked_from_dense, csgraph_from_masked,\n\u001b[1;32m    203\u001b[0m     csgraph_to_masked\n\u001b[1;32m    204\u001b[0m )\n",
      "File \u001b[0;32m<frozen importlib._bootstrap>:645\u001b[0m, in \u001b[0;36mparent\u001b[0;34m(self)\u001b[0m\n",
      "\u001b[0;31mKeyboardInterrupt\u001b[0m: "
     ]
    }
   ],
   "source": [
    "import numpy as np\n",
    "from scipy.linalg.interpolative import interp_decomp"
   ]
  },
  {
   "cell_type": "code",
   "execution_count": null,
   "metadata": {},
   "outputs": [],
   "source": [
    "import numpy as np\n",
    "import matplotlib.pyplot as plt\n",
    "\n",
    "# Creiamo una matrice di esempio\n",
    "data = np.random.rand(5, 5)\n",
    "\n",
    "# Creiamo il plot imshow\n",
    "fig, ax = plt.subplots()\n",
    "cax = ax.imshow(data, cmap='viridis')\n",
    "\n",
    "# Aggiungiamo i numeri sopra ogni cella\n",
    "for i in range(data.shape[0]):\n",
    "    for j in range(data.shape[1]):\n",
    "        ax.text(j, i, f'{data[i, j]:.2f}', ha='center', va='center', color='white')\n",
    "\n",
    "# Aggiungiamo la barra dei colori\n",
    "fig.colorbar(cax)\n",
    "\n",
    "plt.show()"
   ]
  },
  {
   "cell_type": "code",
   "execution_count": 2,
   "metadata": {},
   "outputs": [
    {
     "name": "stdout",
     "output_type": "stream",
     "text": [
      "1\n",
      "2\n",
      "3\n",
      "4\n",
      "5\n",
      "6\n",
      "7\n",
      "8\n"
     ]
    }
   ],
   "source": [
    "L = 10\n",
    "for i in range(1, L-1):\n",
    "    print(i)"
   ]
  },
  {
   "cell_type": "code",
   "execution_count": 2,
   "metadata": {},
   "outputs": [],
   "source": [
    "A = np.array([[0,1,2],[3,4,5],[6,7,8]])\n",
    "i = np.array([0,1,2])"
   ]
  },
  {
   "cell_type": "code",
   "execution_count": 3,
   "metadata": {},
   "outputs": [
    {
     "data": {
      "text/plain": [
       "2"
      ]
     },
     "execution_count": 3,
     "metadata": {},
     "output_type": "execute_result"
    }
   ],
   "source": [
    "A[2,2]\n",
    "A[i,i]\n",
    "i[2]"
   ]
  },
  {
   "cell_type": "code",
   "execution_count": 4,
   "metadata": {},
   "outputs": [
    {
     "name": "stdout",
     "output_type": "stream",
     "text": [
      "[[0 1 2]\n",
      " [3 4 5]\n",
      " [6 7 8]]\n",
      "[[0 1 2]\n",
      " [3 4 5]\n",
      " [6 7 8]]\n"
     ]
    }
   ],
   "source": [
    "print(A[i[:,None],i[None,:]])\n",
    "print(A)"
   ]
  },
  {
   "cell_type": "code",
   "execution_count": 14,
   "metadata": {},
   "outputs": [
    {
     "name": "stdout",
     "output_type": "stream",
     "text": [
      "(3, 3)\n",
      "9\n"
     ]
    }
   ],
   "source": [
    "A = np.array([[0,1,2],[3,4,5],[6,7,8]])\n",
    "A.reshape(-1).shape\n",
    "\n",
    "for evals in A.shape:\n",
    "    evals*=evals\n",
    "print(A.shape)\n",
    "print(evals)"
   ]
  },
  {
   "cell_type": "code",
   "execution_count": 10,
   "metadata": {},
   "outputs": [
    {
     "name": "stdout",
     "output_type": "stream",
     "text": [
      "(10, 3, 3)\n"
     ]
    }
   ],
   "source": [
    "A = (A,)*10\n",
    "A = np.array(A)\n",
    "print(A.shape)"
   ]
  },
  {
   "cell_type": "markdown",
   "metadata": {},
   "source": [
    "### Check that Interpolative Decomposition works with complex matrices"
   ]
  },
  {
   "cell_type": "code",
   "execution_count": 8,
   "metadata": {},
   "outputs": [],
   "source": [
    "# Define a 2x5 random complex matrix\n",
    "rows, cols = 5, 2\n",
    "real_part = np.random.rand(rows, cols)  # Random real part\n",
    "imag_part = np.random.rand(rows, cols)  # Random imaginary part\n",
    "\n",
    "# Combine them into a complex matrix\n",
    "m1 = real_part + 1j * imag_part\n",
    "\n",
    "real_part = np.random.rand(cols, rows)  # Random real part\n",
    "imag_part = np.random.rand(cols, rows)  # Random imaginary part\n",
    "\n",
    "m2 = real_part + 1j * imag_part\n",
    "\n",
    "m_tot = m1 @ m2"
   ]
  },
  {
   "cell_type": "code",
   "execution_count": 9,
   "metadata": {},
   "outputs": [],
   "source": [
    "# Use scipy's implementation of the interpolative decomposition\n",
    "# Instead of the matrix cross interpolation M = C @ P^-1 @ R\n",
    "# it factorizes as M = A @ P with A = M[:, idx]\n",
    "def interpolative_decomposition(M, eps_or_k=1e-5, k_min=2):\n",
    "    r = min(M.shape)\n",
    "    if r <= k_min:\n",
    "        k = r\n",
    "        idx, proj = interp_decomp(M, eps_or_k=k) #eps_or_k = precision of decomposition\n",
    "    elif isinstance(eps_or_k, int): #checks if eps is an integer\n",
    "        k = min(r, eps_or_k)\n",
    "        idx, proj = interp_decomp(M, eps_or_k=k)\n",
    "    else:\n",
    "        k, idx,  proj = interp_decomp(M, eps_or_k=eps_or_k)\n",
    "        if k <= k_min:\n",
    "            k = min(r, k_min) #is it not enough to put k = k_min? \n",
    "                              #r>k_min otherwise first condition would have been true\n",
    "            idx, proj = interp_decomp(M, eps_or_k=k)\n",
    "    A = M[:, idx[:k]]\n",
    "    P = np.concatenate([np.eye(k), proj], axis=1)[:, np.argsort(idx)]\n",
    "    return A, P, k, idx[:k]\n",
    "\n",
    "# k is the 'compressed' rank = number of pivot columns\n",
    "# idx is the array with entries the indeces of the pivot columns\n",
    "# proj = matrix R s.t. M[:,idx[:k]]*R = M[:,idx[k:]] \n",
    "# P = matrix s.t.  M[:,idx[:k]]*P = M (approximated)"
   ]
  },
  {
   "cell_type": "code",
   "execution_count": 10,
   "metadata": {},
   "outputs": [
    {
     "name": "stdout",
     "output_type": "stream",
     "text": [
      "[[ 0.32859322+0.34442887j  0.13426369+0.98188034j  0.72786089+0.75383778j\n",
      "   0.2430558 +0.94006694j -0.00824579+1.0023754j ]\n",
      " [ 0.06371897+0.08348594j -0.12787062+0.27253781j  0.1742689 +0.23161466j\n",
      "   0.05859095+0.36864125j -0.06160455+0.2615074j ]\n",
      " [ 0.07774328+0.32779815j -0.3638733 +0.33289388j  0.0579081 +0.78535203j\n",
      "  -0.54934593+0.69264794j -0.45102862+0.51999849j]\n",
      " [ 0.12397673+0.44324962j -0.31073839+0.56248006j  0.14271544+0.99445637j\n",
      "  -0.57874893+0.81399864j -0.51507048+0.73445514j]\n",
      " [ 0.39260267+0.39548994j -0.29904778+0.66965788j  0.72015015+1.09708512j\n",
      "  -0.31738421+1.50440194j -0.23255075+1.09742329j]]\n",
      "\n",
      "[[ 0.32859322+0.34442887j  0.13426369+0.98188034j  0.72786089+0.75383778j\n",
      "   0.2430558 +0.94006694j -0.00824579+1.0023754j ]\n",
      " [ 0.06371897+0.08348594j -0.12787062+0.27253781j  0.1742689 +0.23161466j\n",
      "   0.05859095+0.36864125j -0.06160455+0.2615074j ]\n",
      " [ 0.07774328+0.32779815j -0.3638733 +0.33289388j  0.0579081 +0.78535203j\n",
      "  -0.54934593+0.69264794j -0.45102862+0.51999849j]\n",
      " [ 0.12397673+0.44324962j -0.31073839+0.56248006j  0.14271544+0.99445637j\n",
      "  -0.57874893+0.81399864j -0.51507048+0.73445514j]\n",
      " [ 0.39260267+0.39548994j -0.29904778+0.66965788j  0.72015015+1.09708512j\n",
      "  -0.31738421+1.50440194j -0.23255075+1.09742329j]]\n"
     ]
    }
   ],
   "source": [
    "A, P, k, idx = interpolative_decomposition(m_tot, eps_or_k=2)\n",
    "\n",
    "m_interp = A @ P\n",
    "\n",
    "print(m_interp)\n",
    "print()\n",
    "print(m_tot)"
   ]
  },
  {
   "cell_type": "code",
   "execution_count": 3,
   "metadata": {},
   "outputs": [],
   "source": [
    "class function:  # certain function f(x) with x given as binary\n",
    "\n",
    "    def __init__(self, f):\n",
    "        self.cache = {}\n",
    "        self.f = f #store function passed during instantiation\n",
    "\n",
    "\n",
    "    def __call__(self, *args, **kwds):\n",
    "        \n",
    "        if args in self.cache:\n",
    "            return self.cache[*args]\n",
    "        else:\n",
    "            val = self.f(*args)\n",
    "            self.cache[*args] = val\n",
    "            return val\n",
    "    \n",
    "    def cache_size(self): #size of cache = number of current evaluations\n",
    "        return len(self.cache) #return the number of entries in the cache\n",
    "        \n"
   ]
  },
  {
   "cell_type": "code",
   "execution_count": 6,
   "metadata": {},
   "outputs": [],
   "source": [
    "n = 4\n",
    "test_func = lambda x: np.sin(x)\n",
    "xs = np.linspace(0, 1, 2**n, endpoint=False)\n",
    "func_vals = test_func(xs)\n",
    "func = function(lambda *x: func_vals.reshape((2,) * n)[*x])"
   ]
  },
  {
   "cell_type": "code",
   "execution_count": 14,
   "metadata": {},
   "outputs": [
    {
     "name": "stdout",
     "output_type": "stream",
     "text": [
      "2\n"
     ]
    }
   ],
   "source": [
    "func(0,1,1,1)\n",
    "func(0,1,0,1)\n",
    "func(0,1,1,1)\n",
    "\n",
    "print(func.cache_size())"
   ]
  },
  {
   "cell_type": "code",
   "execution_count": 15,
   "metadata": {},
   "outputs": [
    {
     "name": "stdout",
     "output_type": "stream",
     "text": [
      "8\n",
      "7\n",
      "6\n",
      "5\n",
      "4\n",
      "3\n",
      "2\n",
      "1\n",
      "0\n"
     ]
    }
   ],
   "source": [
    "for i in range(8,-1,-1):\n",
    "    print(i)"
   ]
  },
  {
   "cell_type": "code",
   "execution_count": null,
   "metadata": {},
   "outputs": [],
   "source": []
  }
 ],
 "metadata": {
  "kernelspec": {
   "display_name": "Python 3",
   "language": "python",
   "name": "python3"
  },
  "language_info": {
   "codemirror_mode": {
    "name": "ipython",
    "version": 3
   },
   "file_extension": ".py",
   "mimetype": "text/x-python",
   "name": "python",
   "nbconvert_exporter": "python",
   "pygments_lexer": "ipython3",
   "version": "3.12.8"
  }
 },
 "nbformat": 4,
 "nbformat_minor": 2
}
